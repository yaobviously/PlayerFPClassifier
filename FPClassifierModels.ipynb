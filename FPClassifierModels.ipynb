{
  "nbformat": 4,
  "nbformat_minor": 0,
  "metadata": {
    "colab": {
      "name": "FPClassifierModels.ipynb",
      "provenance": [],
      "collapsed_sections": [],
      "mount_file_id": "1ViDkBUxnQOJFfYTGHRi54hd6ESX8n3Kt",
      "authorship_tag": "ABX9TyP29UNrFZ2R3Prg5jikyVBc",
      "include_colab_link": true
    },
    "kernelspec": {
      "name": "python3",
      "display_name": "Python 3"
    },
    "language_info": {
      "name": "python"
    }
  },
  "cells": [
    {
      "cell_type": "markdown",
      "metadata": {
        "id": "view-in-github",
        "colab_type": "text"
      },
      "source": [
        "<a href=\"https://colab.research.google.com/github/yaobviously/PlayerFPClassifier/blob/main/FPClassifierModels.ipynb\" target=\"_parent\"><img src=\"https://colab.research.google.com/assets/colab-badge.svg\" alt=\"Open In Colab\"/></a>"
      ]
    },
    {
      "cell_type": "code",
      "metadata": {
        "id": "mMV3sze38-t9"
      },
      "source": [
        "file = '/content/Players2019.csv'\n",
        "!pip install category_encoders"
      ],
      "execution_count": null,
      "outputs": []
    },
    {
      "cell_type": "code",
      "metadata": {
        "id": "s7U00EH09vmK"
      },
      "source": [
        "import pandas as pd\n",
        "import numpy as np\n",
        "import matplotlib.pyplot as plt\n",
        "import seaborn as sns\n",
        "from sklearn.pipeline import make_pipeline\n",
        "from category_encoders import OneHotEncoder\n",
        "from sklearn.impute import SimpleImputer\n",
        "from sklearn.experimental import enable_iterative_imputer\n",
        "from sklearn.impute import IterativeImputer\n",
        "from sklearn.preprocessing import StandardScaler\n",
        "from sklearn.linear_model import LogisticRegression\n",
        "from sklearn.linear_model import Ridge\n",
        "from sklearn.svm import SVC\n",
        "from sklearn.ensemble import RandomForestClassifier\n",
        "from sklearn.model_selection import RandomizedSearchCV\n",
        "from sklearn.metrics import roc_auc_score\n",
        "from sklearn.metrics import f1_score\n",
        "from sklearn.metrics import precision_score\n",
        "from sklearn.metrics import recall_score\n",
        "from sklearn.metrics import mean_absolute_error"
      ],
      "execution_count": null,
      "outputs": []
    },
    {
      "cell_type": "code",
      "metadata": {
        "id": "KlGTxnOj9-ha"
      },
      "source": [
        "def wrangle(filename):\n",
        "    \n",
        "    df = pd.read_csv(file,\n",
        "                     parse_dates = ['Date'],\n",
        "                     index_col = 'Date')\n",
        "    \n",
        "    # dropping some useless columns from lazy .to_csv'ing early on\n",
        "\n",
        "    df.drop(columns = ['Unnamed: 0', 'Unnamed: 0.1', 'Unnamed: 0.1.1', \n",
        "                       'predFP', 'residual', 'PlayerID'],\n",
        "                        inplace = True)\n",
        "    \n",
        "    # renaming and reformatting column headers for easier access\n",
        "\n",
        "    df.rename(columns = {'BIGDATABALL\\nDATASET' : 'Game_Type'}, inplace = True)\n",
        "    \n",
        "    df.columns = df.columns.str.lower()\n",
        "    \n",
        "    # defining the targets of the models\n",
        "\n",
        "    df['boom_threshold'] = df['fppgame'] + 9\n",
        "    df['boom_threshold'] = df['boom_threshold'].fillna(1)\n",
        "    df['didboom'] = (df['playerfp'] >= df['boom_threshold']).astype(int)    \n",
        "    df['didntbust'] = df['playerfp'] >= df['fppgame']\n",
        "    \n",
        "    # i originally did some work in statsmodels, but left it out\n",
        "\n",
        "    df['hora'] = df['hora'].astype('category')\n",
        "    df['daysrest'] = df['daysrest'].astype('category')\n",
        "    df['team'] = df['team'].astype('category')\n",
        "    \n",
        "    # defining new columns using rolling and expanding averages that have been\n",
        "    # shifted to only include observations prior to the date of the box score\n",
        "\n",
        "    df['rollingmpg'] = df.groupby('player')['min'].transform(lambda x: x.rolling(5).mean().shift())\n",
        "    df['expandingmpg'] = df.groupby('player')['min'].transform(lambda x: x.expanding().mean().shift())\n",
        "    df['rolling_min_diff'] = df['rollingmpg'] - df['expandingmpg']\n",
        "    df['fpdifferential'] = df['playerfp'] - df['fppgame']\n",
        "    \n",
        "    reg = df[df['game_type'] == 'NBA 2019-2020 Regular Season'].copy()\n",
        "    ply = df[df['game_type'] == 'NBA 2020 Playoffs'].copy()    \n",
        "    \n",
        "    return reg, ply"
      ],
      "execution_count": 19,
      "outputs": []
    },
    {
      "cell_type": "code",
      "metadata": {
        "id": "3tR3eyii-BM-"
      },
      "source": [
        "reg, ply = wrangle(file)\n"
      ],
      "execution_count": 20,
      "outputs": []
    },
    {
      "cell_type": "code",
      "metadata": {
        "id": "xvS6w7zj-EJs"
      },
      "source": [
        "# Defining a cutoff date to separate the data into train and test sets. Two\n",
        "# additional filters were defined and tested, but the most general is the \n",
        "# date-only model\n",
        "\n",
        "\n",
        "date_threshold = '2020-01-15'\n",
        "#rank_threshold = 7.0\n",
        "#fppg_threshold = 18.0\n",
        "\n",
        "early_mask = reg.index < date_threshold\n",
        "#fppg_mask = reg['fppgame'] >= fppg_threshold\n",
        "#rank_mask = reg['fpteamrank'] >= rank_threshold\n",
        "\n",
        "\n",
        "features = ['fp/minsofar', 'fpteamrank', 'rolling_min_diff', 'gmmlabel', 'rollinggmmdeltad',\n",
        "            'opponent', 'stdtodate', 'fppgame', 'teamvegas', 'closingspread']\n",
        "\n",
        "target = 'didntbust'\n",
        "\n",
        "# splitting the data into test and train sets using the date filter and \n",
        "# minimum fantasy points per game filters. \n",
        "\n",
        "X = reg[features]\n",
        "X = X.replace([np.inf, -np.inf], np.nan)\n",
        "\n",
        "y = reg[target]\n",
        "\n",
        "X_train, y_train = X[early_mask], y[early_mask]\n",
        "X_test, y_test = X[~early_mask], y[~early_mask]\n"
      ],
      "execution_count": 26,
      "outputs": []
    },
    {
      "cell_type": "code",
      "metadata": {
        "colab": {
          "base_uri": "https://localhost:8080/"
        },
        "id": "EeD_zHpd-ut7",
        "outputId": "001be4ab-0560-422e-e5ac-32897c410ae9"
      },
      "source": [
        "# SVC model fitting and evaluation. The linear kernel performs best.\n",
        "\n",
        "model_svc = make_pipeline(\n",
        "    OneHotEncoder(use_cat_names = True),\n",
        "    SimpleImputer(strategy = 'mean'),\n",
        "    StandardScaler(),\n",
        "    SVC(kernel = 'linear', probability = True, gamma = 'auto')\n",
        "    )\n",
        "\n",
        "\n",
        "model_svc.fit(X_train, y_train)\n",
        "\n",
        "svc_predict = model_svc.predict(X_test)\n",
        "svc_prob_predict = model_svc.predict_proba(X_test)\n",
        "svc_prob_didntbust = svc_prob_predict[:,1];"
      ],
      "execution_count": 17,
      "outputs": [
        {
          "output_type": "stream",
          "text": [
            "/usr/local/lib/python3.7/dist-packages/category_encoders/utils.py:21: FutureWarning: is_categorical is deprecated and will be removed in a future version.  Use is_categorical_dtype instead\n",
            "  elif pd.api.types.is_categorical(cols):\n"
          ],
          "name": "stderr"
        }
      ]
    },
    {
      "cell_type": "code",
      "metadata": {
        "colab": {
          "base_uri": "https://localhost:8080/"
        },
        "id": "5UZ5ifCl_O8P",
        "outputId": "bb012d53-aef3-4e2b-8d17-de10d975a9ef"
      },
      "source": [
        "# evaluating the model. this one doesn't do too well, which isn't surprising\n",
        "\n",
        "svc_roc = roc_auc_score(y_test, svc_predict)\n",
        "svc_precision = precision_score(y_test, svc_predict)\n",
        "svc_recall = recall_score(y_test, svc_predict)\n",
        "svc_f1 = f1_score(y_test, svc_predict)\n"
      ],
      "execution_count": 18,
      "outputs": [
        {
          "output_type": "stream",
          "text": [
            "The model predicts a boom 0.421 percent of the time\n"
          ],
          "name": "stdout"
        }
      ]
    },
    {
      "cell_type": "code",
      "metadata": {
        "id": "hB4W6iYrAaaZ"
      },
      "source": [
        "# Creating the RandomForestClassifier pipeline and later fitting it using the\n",
        "# optimal parameters found with RandomizedSearchCV\n",
        "\n",
        "rf_model = make_pipeline(\n",
        "    OneHotEncoder(use_cat_names = True),\n",
        "    SimpleImputer(strategy = 'mean'),\n",
        "    StandardScaler(),\n",
        "    RandomForestClassifier(n_estimators = 312, min_samples_split = 10, max_features = 'sqrt')\n",
        "    )\n",
        "\n",
        "\n",
        "rf_model.fit(X_train, y_train);\n"
      ],
      "execution_count": null,
      "outputs": []
    },
    {
      "cell_type": "code",
      "metadata": {
        "id": "5eWV0YnFAJv4"
      },
      "source": [
        "# Finding he optimal parameters for the RandomForest Classifier using \n",
        "# RandomizedSearch\n",
        "\n",
        "n_estimators = [int(n) for n in np.linspace(50,500, 25)]\n",
        "min_samples_split = [2,5,10]\n",
        "max_features =  ['auto', 'sqrt']\n",
        "\n",
        "# To remember for later, the two underscores are necessary when defining params\n",
        "# for a model within a pipeline\n",
        "\n",
        "random_grid = {'randomforestclassifier__n_estimators':n_estimators,\n",
        "               'randomforestclassifier__max_features': max_features,\n",
        "               'randomforestclassifier__min_samples_split': min_samples_split,\n",
        "               }\n",
        "\n",
        "search = RandomizedSearchCV(rf_model, n_iter = 10, cv = 3, refit = False,\n",
        "                            verbose = 2, param_distributions= random_grid)\n",
        "\n",
        "search.fit(X_train, y_train);\n",
        "\n",
        "print(search.best_params_)"
      ],
      "execution_count": null,
      "outputs": []
    },
    {
      "cell_type": "code",
      "metadata": {
        "colab": {
          "base_uri": "https://localhost:8080/",
          "height": 1000
        },
        "id": "YnhWVHZyBw0J",
        "outputId": "6c519ee3-e401-4e57-9ed0-f743d745ad66"
      },
      "source": [
        "# Evaluating the RandomForestClassifier\n",
        "\n",
        "rf_predict = rf_model.predict(X_test)\n",
        "rf_predict_proba = rf_model.predict_proba(X_test)[:,1]\n",
        "\n",
        "rf_roc_score = roc_auc_score(y_test, rf_predict)\n",
        "rf_f1_score = f1_score(y_test, rf_predict)\n",
        "rf_precision_score = precision_score(y_test, rf_predict)\n",
        "rf_recall_score = recall_score(y_test, rf_predict)\n",
        "\n",
        "# Adding the predicted values onto the dataframe to do a superficial inspection.\n",
        "# Look at all those 'booms' near the top (base rate of booms = ~21%)! Better than\n",
        "# the opposite\n",
        "\n",
        "rf_test = reg[~early_mask]\n",
        "rf_test['notbust_pred'] = (rf_predict_proba).round(3)\n",
        "rf_test[['player', 'playerfp', 'notbust_pred', 'didntbust', 'didboom']].sort_values(by = 'notbust_pred', ascending=False).head(30)\n"
      ],
      "execution_count": 43,
      "outputs": [
        {
          "output_type": "stream",
          "text": [
            "/usr/local/lib/python3.7/dist-packages/ipykernel_launcher.py:16: SettingWithCopyWarning: \n",
            "A value is trying to be set on a copy of a slice from a DataFrame.\n",
            "Try using .loc[row_indexer,col_indexer] = value instead\n",
            "\n",
            "See the caveats in the documentation: https://pandas.pydata.org/pandas-docs/stable/user_guide/indexing.html#returning-a-view-versus-a-copy\n",
            "  app.launch_new_instance()\n"
          ],
          "name": "stderr"
        },
        {
          "output_type": "execute_result",
          "data": {
            "text/html": [
              "<div>\n",
              "<style scoped>\n",
              "    .dataframe tbody tr th:only-of-type {\n",
              "        vertical-align: middle;\n",
              "    }\n",
              "\n",
              "    .dataframe tbody tr th {\n",
              "        vertical-align: top;\n",
              "    }\n",
              "\n",
              "    .dataframe thead th {\n",
              "        text-align: right;\n",
              "    }\n",
              "</style>\n",
              "<table border=\"1\" class=\"dataframe\">\n",
              "  <thead>\n",
              "    <tr style=\"text-align: right;\">\n",
              "      <th></th>\n",
              "      <th>player</th>\n",
              "      <th>playerfp</th>\n",
              "      <th>notbust_pred</th>\n",
              "      <th>didntbust</th>\n",
              "      <th>didboom</th>\n",
              "    </tr>\n",
              "    <tr>\n",
              "      <th>Date</th>\n",
              "      <th></th>\n",
              "      <th></th>\n",
              "      <th></th>\n",
              "      <th></th>\n",
              "      <th></th>\n",
              "    </tr>\n",
              "  </thead>\n",
              "  <tbody>\n",
              "    <tr>\n",
              "      <th>2020-08-13</th>\n",
              "      <td>Troy Brown Jr.</td>\n",
              "      <td>42.00</td>\n",
              "      <td>0.785</td>\n",
              "      <td>True</td>\n",
              "      <td>1</td>\n",
              "    </tr>\n",
              "    <tr>\n",
              "      <th>2020-02-23</th>\n",
              "      <td>Coby White</td>\n",
              "      <td>54.50</td>\n",
              "      <td>0.776</td>\n",
              "      <td>True</td>\n",
              "      <td>1</td>\n",
              "    </tr>\n",
              "    <tr>\n",
              "      <th>2020-01-22</th>\n",
              "      <td>Nemanja Bjelica</td>\n",
              "      <td>36.75</td>\n",
              "      <td>0.775</td>\n",
              "      <td>True</td>\n",
              "      <td>0</td>\n",
              "    </tr>\n",
              "    <tr>\n",
              "      <th>2020-01-27</th>\n",
              "      <td>Kris Dunn</td>\n",
              "      <td>39.50</td>\n",
              "      <td>0.766</td>\n",
              "      <td>True</td>\n",
              "      <td>1</td>\n",
              "    </tr>\n",
              "    <tr>\n",
              "      <th>2020-03-02</th>\n",
              "      <td>Tim Hardaway Jr.</td>\n",
              "      <td>36.75</td>\n",
              "      <td>0.763</td>\n",
              "      <td>True</td>\n",
              "      <td>1</td>\n",
              "    </tr>\n",
              "    <tr>\n",
              "      <th>2020-02-10</th>\n",
              "      <td>Bruce Brown</td>\n",
              "      <td>35.50</td>\n",
              "      <td>0.758</td>\n",
              "      <td>True</td>\n",
              "      <td>1</td>\n",
              "    </tr>\n",
              "    <tr>\n",
              "      <th>2020-08-13</th>\n",
              "      <td>Tim Hardaway Jr.</td>\n",
              "      <td>11.50</td>\n",
              "      <td>0.758</td>\n",
              "      <td>False</td>\n",
              "      <td>0</td>\n",
              "    </tr>\n",
              "    <tr>\n",
              "      <th>2020-08-14</th>\n",
              "      <td>Aaron Holiday</td>\n",
              "      <td>24.00</td>\n",
              "      <td>0.755</td>\n",
              "      <td>True</td>\n",
              "      <td>0</td>\n",
              "    </tr>\n",
              "    <tr>\n",
              "      <th>2020-03-08</th>\n",
              "      <td>Tim Hardaway Jr.</td>\n",
              "      <td>46.00</td>\n",
              "      <td>0.754</td>\n",
              "      <td>True</td>\n",
              "      <td>1</td>\n",
              "    </tr>\n",
              "    <tr>\n",
              "      <th>2020-01-29</th>\n",
              "      <td>Jonas Valanciunas</td>\n",
              "      <td>38.25</td>\n",
              "      <td>0.753</td>\n",
              "      <td>True</td>\n",
              "      <td>0</td>\n",
              "    </tr>\n",
              "    <tr>\n",
              "      <th>2020-01-15</th>\n",
              "      <td>Lauri Markkanen</td>\n",
              "      <td>28.50</td>\n",
              "      <td>0.751</td>\n",
              "      <td>False</td>\n",
              "      <td>0</td>\n",
              "    </tr>\n",
              "    <tr>\n",
              "      <th>2020-02-22</th>\n",
              "      <td>Coby White</td>\n",
              "      <td>47.75</td>\n",
              "      <td>0.750</td>\n",
              "      <td>True</td>\n",
              "      <td>1</td>\n",
              "    </tr>\n",
              "    <tr>\n",
              "      <th>2020-02-07</th>\n",
              "      <td>Kevin Huerter</td>\n",
              "      <td>48.75</td>\n",
              "      <td>0.748</td>\n",
              "      <td>True</td>\n",
              "      <td>1</td>\n",
              "    </tr>\n",
              "    <tr>\n",
              "      <th>2020-02-26</th>\n",
              "      <td>Caris LeVert</td>\n",
              "      <td>63.00</td>\n",
              "      <td>0.742</td>\n",
              "      <td>True</td>\n",
              "      <td>1</td>\n",
              "    </tr>\n",
              "    <tr>\n",
              "      <th>2020-01-18</th>\n",
              "      <td>Jarrett Culver</td>\n",
              "      <td>41.00</td>\n",
              "      <td>0.742</td>\n",
              "      <td>True</td>\n",
              "      <td>1</td>\n",
              "    </tr>\n",
              "    <tr>\n",
              "      <th>2020-02-28</th>\n",
              "      <td>Tim Hardaway Jr.</td>\n",
              "      <td>25.25</td>\n",
              "      <td>0.741</td>\n",
              "      <td>True</td>\n",
              "      <td>0</td>\n",
              "    </tr>\n",
              "    <tr>\n",
              "      <th>2020-01-24</th>\n",
              "      <td>Nemanja Bjelica</td>\n",
              "      <td>30.75</td>\n",
              "      <td>0.738</td>\n",
              "      <td>True</td>\n",
              "      <td>0</td>\n",
              "    </tr>\n",
              "    <tr>\n",
              "      <th>2020-01-24</th>\n",
              "      <td>Markelle Fultz</td>\n",
              "      <td>25.00</td>\n",
              "      <td>0.736</td>\n",
              "      <td>False</td>\n",
              "      <td>0</td>\n",
              "    </tr>\n",
              "    <tr>\n",
              "      <th>2020-02-28</th>\n",
              "      <td>Seth Curry</td>\n",
              "      <td>47.00</td>\n",
              "      <td>0.733</td>\n",
              "      <td>True</td>\n",
              "      <td>1</td>\n",
              "    </tr>\n",
              "    <tr>\n",
              "      <th>2020-01-24</th>\n",
              "      <td>Chris Paul</td>\n",
              "      <td>38.00</td>\n",
              "      <td>0.732</td>\n",
              "      <td>False</td>\n",
              "      <td>0</td>\n",
              "    </tr>\n",
              "    <tr>\n",
              "      <th>2020-02-03</th>\n",
              "      <td>Kevin Huerter</td>\n",
              "      <td>34.25</td>\n",
              "      <td>0.732</td>\n",
              "      <td>True</td>\n",
              "      <td>0</td>\n",
              "    </tr>\n",
              "    <tr>\n",
              "      <th>2020-03-10</th>\n",
              "      <td>Aaron Gordon</td>\n",
              "      <td>35.25</td>\n",
              "      <td>0.730</td>\n",
              "      <td>True</td>\n",
              "      <td>0</td>\n",
              "    </tr>\n",
              "    <tr>\n",
              "      <th>2020-02-23</th>\n",
              "      <td>Bruce Brown</td>\n",
              "      <td>25.00</td>\n",
              "      <td>0.729</td>\n",
              "      <td>False</td>\n",
              "      <td>0</td>\n",
              "    </tr>\n",
              "    <tr>\n",
              "      <th>2020-02-29</th>\n",
              "      <td>Elfrid Payton</td>\n",
              "      <td>21.25</td>\n",
              "      <td>0.727</td>\n",
              "      <td>False</td>\n",
              "      <td>0</td>\n",
              "    </tr>\n",
              "    <tr>\n",
              "      <th>2020-01-20</th>\n",
              "      <td>Bruce Brown</td>\n",
              "      <td>19.75</td>\n",
              "      <td>0.724</td>\n",
              "      <td>False</td>\n",
              "      <td>0</td>\n",
              "    </tr>\n",
              "    <tr>\n",
              "      <th>2020-01-27</th>\n",
              "      <td>Darius Garland</td>\n",
              "      <td>13.00</td>\n",
              "      <td>0.723</td>\n",
              "      <td>False</td>\n",
              "      <td>0</td>\n",
              "    </tr>\n",
              "    <tr>\n",
              "      <th>2020-08-12</th>\n",
              "      <td>Jerami Grant</td>\n",
              "      <td>38.50</td>\n",
              "      <td>0.723</td>\n",
              "      <td>True</td>\n",
              "      <td>1</td>\n",
              "    </tr>\n",
              "    <tr>\n",
              "      <th>2020-01-29</th>\n",
              "      <td>Elfrid Payton</td>\n",
              "      <td>46.75</td>\n",
              "      <td>0.720</td>\n",
              "      <td>True</td>\n",
              "      <td>1</td>\n",
              "    </tr>\n",
              "    <tr>\n",
              "      <th>2020-01-26</th>\n",
              "      <td>John Collins</td>\n",
              "      <td>31.50</td>\n",
              "      <td>0.720</td>\n",
              "      <td>False</td>\n",
              "      <td>0</td>\n",
              "    </tr>\n",
              "    <tr>\n",
              "      <th>2020-02-03</th>\n",
              "      <td>Malik Monk</td>\n",
              "      <td>26.25</td>\n",
              "      <td>0.719</td>\n",
              "      <td>True</td>\n",
              "      <td>0</td>\n",
              "    </tr>\n",
              "  </tbody>\n",
              "</table>\n",
              "</div>"
            ],
            "text/plain": [
              "                       player  playerfp  notbust_pred  didntbust  didboom\n",
              "Date                                                                     \n",
              "2020-08-13     Troy Brown Jr.     42.00         0.785       True        1\n",
              "2020-02-23         Coby White     54.50         0.776       True        1\n",
              "2020-01-22    Nemanja Bjelica     36.75         0.775       True        0\n",
              "2020-01-27          Kris Dunn     39.50         0.766       True        1\n",
              "2020-03-02   Tim Hardaway Jr.     36.75         0.763       True        1\n",
              "2020-02-10        Bruce Brown     35.50         0.758       True        1\n",
              "2020-08-13   Tim Hardaway Jr.     11.50         0.758      False        0\n",
              "2020-08-14      Aaron Holiday     24.00         0.755       True        0\n",
              "2020-03-08   Tim Hardaway Jr.     46.00         0.754       True        1\n",
              "2020-01-29  Jonas Valanciunas     38.25         0.753       True        0\n",
              "2020-01-15    Lauri Markkanen     28.50         0.751      False        0\n",
              "2020-02-22         Coby White     47.75         0.750       True        1\n",
              "2020-02-07      Kevin Huerter     48.75         0.748       True        1\n",
              "2020-02-26       Caris LeVert     63.00         0.742       True        1\n",
              "2020-01-18     Jarrett Culver     41.00         0.742       True        1\n",
              "2020-02-28   Tim Hardaway Jr.     25.25         0.741       True        0\n",
              "2020-01-24    Nemanja Bjelica     30.75         0.738       True        0\n",
              "2020-01-24     Markelle Fultz     25.00         0.736      False        0\n",
              "2020-02-28         Seth Curry     47.00         0.733       True        1\n",
              "2020-01-24         Chris Paul     38.00         0.732      False        0\n",
              "2020-02-03      Kevin Huerter     34.25         0.732       True        0\n",
              "2020-03-10       Aaron Gordon     35.25         0.730       True        0\n",
              "2020-02-23        Bruce Brown     25.00         0.729      False        0\n",
              "2020-02-29      Elfrid Payton     21.25         0.727      False        0\n",
              "2020-01-20        Bruce Brown     19.75         0.724      False        0\n",
              "2020-01-27     Darius Garland     13.00         0.723      False        0\n",
              "2020-08-12       Jerami Grant     38.50         0.723       True        1\n",
              "2020-01-29      Elfrid Payton     46.75         0.720       True        1\n",
              "2020-01-26       John Collins     31.50         0.720      False        0\n",
              "2020-02-03         Malik Monk     26.25         0.719       True        0"
            ]
          },
          "metadata": {
            "tags": []
          },
          "execution_count": 43
        }
      ]
    },
    {
      "cell_type": "code",
      "metadata": {
        "colab": {
          "base_uri": "https://localhost:8080/",
          "height": 313
        },
        "id": "j4lcUmJOCfg3",
        "outputId": "76215ca8-efc6-4e0f-843c-a856368f0899"
      },
      "source": [
        "# The probability of a 'boom' outcome increases in the expected way, which is \n",
        "# nice. \n",
        "\n",
        "sns.regplot(x = 'notbust_pred', y='didboom', logistic = True, data = rf_test)\n",
        "plt.title('Booms Versus Predicted Predicted Not Bust%');"
      ],
      "execution_count": 33,
      "outputs": [
        {
          "output_type": "execute_result",
          "data": {
            "text/plain": [
              "Text(0.5, 1.0, 'Boom % Versus Predicted Bust %')"
            ]
          },
          "metadata": {
            "tags": []
          },
          "execution_count": 33
        },
        {
          "output_type": "display_data",
          "data": {
            "image/png": "[encoded data removed]",
            "text/plain": [
              "<Figure size 432x288 with 1 Axes>"
            ]
          },
          "metadata": {
            "tags": [],
            "needs_background": "light"
          }
        }
      ]
    },
    {
      "cell_type": "code",
      "metadata": {
        "colab": {
          "base_uri": "https://localhost:8080/",
          "height": 281
        },
        "id": "faBn61cOC6OI",
        "outputId": "e84f4f0b-1da5-4ec5-c77f-ad6d5b0fd86c"
      },
      "source": [
        "# Plotting the relative importance of features using a standard horizontal \n",
        "# bar chart. A  better feature would be a reliable minutes \n",
        "# projection, but I did not have one in the data set and settled for \n",
        "# the differential between the rolling 5 game average and the expanding average.\n",
        "\n",
        "feature_names = rf_model.named_steps['onehotencoder'].get_feature_names()\n",
        "feature_importances = rf_model.named_steps['randomforestclassifier'].feature_importances_.ravel()\n",
        "features = pd.Series(feature_importances, index = feature_names).sort_values(key = abs, ascending = False).head(9)\n",
        "\n",
        "features.sort_values(key = abs).plot.barh()\n",
        "plt.title('Feature Importances');\n"
      ],
      "execution_count": 39,
      "outputs": [
        {
          "output_type": "display_data",
          "data": {
            "image/png": "[encoded data removed]",
            "text/plain": [
              "<Figure size 432x288 with 1 Axes>"
            ]
          },
          "metadata": {
            "tags": [],
            "needs_background": "light"
          }
        }
      ]
    },
    {
      "cell_type": "code",
      "metadata": {
        "id": "_LVZMiVJDZ0F"
      },
      "source": [
        ""
      ],
      "execution_count": null,
      "outputs": []
    }
  ]
}